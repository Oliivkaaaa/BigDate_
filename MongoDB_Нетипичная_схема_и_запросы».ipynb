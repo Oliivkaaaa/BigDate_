{
  "nbformat": 4,
  "nbformat_minor": 0,
  "metadata": {
    "colab": {
      "provenance": [],
      "authorship_tag": "ABX9TyN3Q47z//zUaC7xIz+a2bzX",
      "include_colab_link": true
    },
    "kernelspec": {
      "name": "python3",
      "display_name": "Python 3"
    },
    "language_info": {
      "name": "python"
    }
  },
  "cells": [
    {
      "cell_type": "markdown",
      "metadata": {
        "id": "view-in-github",
        "colab_type": "text"
      },
      "source": [
        "<a href=\"https://colab.research.google.com/github/Oliivkaaaa/BigDate_/blob/main/MongoDB_%D0%9D%D0%B5%D1%82%D0%B8%D0%BF%D0%B8%D1%87%D0%BD%D0%B0%D1%8F_%D1%81%D1%85%D0%B5%D0%BC%D0%B0_%D0%B8_%D0%B7%D0%B0%D0%BF%D1%80%D0%BE%D1%81%D1%8B%C2%BB.ipynb\" target=\"_parent\"><img src=\"https://colab.research.google.com/assets/colab-badge.svg\" alt=\"Open In Colab\"/></a>"
      ]
    },
    {
      "cell_type": "code",
      "source": [
        "!pip install mongomock pymongo\n",
        "\n",
        "\n",
        "import mongomock\n",
        "import pprint\n",
        "from pymongo import MongoClient\n",
        "\n",
        "client = mongomock.MongoClient()\n",
        "db = client[\"dream_db\"]\n",
        "collection = db[\"dream_journal\"]"
      ],
      "metadata": {
        "id": "HvLFOrSTLXYJ",
        "colab": {
          "base_uri": "https://localhost:8080/"
        },
        "outputId": "162473f7-c927-4802-d733-2b08be6be683"
      },
      "execution_count": 6,
      "outputs": [
        {
          "output_type": "stream",
          "name": "stdout",
          "text": [
            "Requirement already satisfied: mongomock in /usr/local/lib/python3.12/dist-packages (4.3.0)\n",
            "Collecting pymongo\n",
            "  Downloading pymongo-4.15.3-cp312-cp312-manylinux2014_x86_64.manylinux_2_17_x86_64.manylinux_2_28_x86_64.whl.metadata (22 kB)\n",
            "Requirement already satisfied: packaging in /usr/local/lib/python3.12/dist-packages (from mongomock) (25.0)\n",
            "Requirement already satisfied: pytz in /usr/local/lib/python3.12/dist-packages (from mongomock) (2025.2)\n",
            "Requirement already satisfied: sentinels in /usr/local/lib/python3.12/dist-packages (from mongomock) (1.1.1)\n",
            "Collecting dnspython<3.0.0,>=1.16.0 (from pymongo)\n",
            "  Downloading dnspython-2.8.0-py3-none-any.whl.metadata (5.7 kB)\n",
            "Downloading pymongo-4.15.3-cp312-cp312-manylinux2014_x86_64.manylinux_2_17_x86_64.manylinux_2_28_x86_64.whl (1.7 MB)\n",
            "\u001b[2K   \u001b[90m━━━━━━━━━━━━━━━━━━━━━━━━━━━━━━━━━━━━━━━━\u001b[0m \u001b[32m1.7/1.7 MB\u001b[0m \u001b[31m33.6 MB/s\u001b[0m eta \u001b[36m0:00:00\u001b[0m\n",
            "\u001b[?25hDownloading dnspython-2.8.0-py3-none-any.whl (331 kB)\n",
            "\u001b[2K   \u001b[90m━━━━━━━━━━━━━━━━━━━━━━━━━━━━━━━━━━━━━━━━\u001b[0m \u001b[32m331.1/331.1 kB\u001b[0m \u001b[31m22.5 MB/s\u001b[0m eta \u001b[36m0:00:00\u001b[0m\n",
            "\u001b[?25hInstalling collected packages: dnspython, pymongo\n",
            "Successfully installed dnspython-2.8.0 pymongo-4.15.3\n"
          ]
        }
      ]
    },
    {
      "cell_type": "code",
      "source": [
        "client = mongomock.MongoClient()\n",
        "db = client[\"dream_db\"]\n",
        "collection = db[\"dream_journal\"]\n",
        "\n",
        "doc = {\n",
        "    \"user_id\": 101,\n",
        "    \"username\": \"alice\",\n",
        "    \"dreams\": [\n",
        "        {\n",
        "            \"date\": \"20.10.2025\",\n",
        "            \"title\": \"Полет над городом\",\n",
        "            \"mood\": \"inspired\",\n",
        "            \"symbols\": [\n",
        "                {\"name\": \"sky\", \"meaning\": \"freedom\"},\n",
        "                {\"name\": \"city\", \"meaning\": \"ambition\"}\n",
        "            ],\n",
        "            \"characters\": [\n",
        "                {\"name\": \"bird\", \"type\": \"animal\", \"feeling\": \"friendly\"}\n",
        "            ],\n",
        "            \"notes\": {\"lucid\": True, \"clarity\": 8, \"themes\": [\"flight\", \"freedom\"]}\n",
        "        },\n",
        "        {\n",
        "            \"date\": \"20.10.2025\",\n",
        "            \"title\": \"Лес и тень\",\n",
        "            \"mood\": \"fear\",\n",
        "            \"symbols\": [\n",
        "                {\"name\": \"forest\", \"meaning\": \"unknown\"},\n",
        "                {\"name\": \"shadow\", \"meaning\": \"hidden fears\"}\n",
        "            ],\n",
        "            \"characters\": [\n",
        "                {\"name\": \"shadow\", \"type\": \"entity\", \"feeling\": \"hostile\"}\n",
        "            ],\n",
        "            \"notes\": {\"lucid\": False, \"clarity\": 5, \"themes\": [\"darkness\", \"fear\"]}\n",
        "        }\n",
        "    ]\n",
        "}\n",
        "\n",
        "collection.insert_one(doc)"
      ],
      "metadata": {
        "colab": {
          "base_uri": "https://localhost:8080/"
        },
        "id": "ULxoiav8Lb_m",
        "outputId": "60c9d392-399e-4ee0-f846-b75dbc6f9c42"
      },
      "execution_count": 7,
      "outputs": [
        {
          "output_type": "execute_result",
          "data": {
            "text/plain": [
              "<mongomock.results.InsertOneResult at 0x7b738be720d0>"
            ]
          },
          "metadata": {},
          "execution_count": 7
        }
      ]
    },
    {
      "cell_type": "code",
      "source": [
        "print(\"\\n=== Запрос по вложенному полю (dreams.symbols.name == 'shadow') ===\")\n",
        "query = {\"dreams.symbols.name\": \"shadow\"}\n",
        "projection = {\"username\": 1, \"dreams.title\": 1}\n",
        "for doc in collection.find(query, projection):\n",
        "    pprint.pprint(doc)"
      ],
      "metadata": {
        "colab": {
          "base_uri": "https://localhost:8080/"
        },
        "id": "GcuZeYuMLjZu",
        "outputId": "9e8da4d5-f125-477b-eb2b-ff1982b9b87f"
      },
      "execution_count": 8,
      "outputs": [
        {
          "output_type": "stream",
          "name": "stdout",
          "text": [
            "\n",
            "=== Запрос по вложенному полю (dreams.symbols.name == 'shadow') ===\n",
            "{'_id': ObjectId(aea68868-afdb-11f0-b792-0242ac1c000c),\n",
            " 'dreams': [{'title': 'Полет над городом'}, {'title': 'Лес и тень'}],\n",
            " 'username': 'alice'}\n"
          ]
        }
      ]
    },
    {
      "cell_type": "code",
      "source": [
        "print(\"\\n=== Агрегация: количество снов по настроению (mood) ===\")\n",
        "pipeline = [\n",
        "    {\"$unwind\": \"$dreams\"},\n",
        "    {\"$group\": {\"_id\": \"$dreams.mood\", \"count\": {\"$sum\": 1}}},\n",
        "    {\"$sort\": {\"count\": -1}}\n",
        "]\n",
        "for doc in collection.aggregate(pipeline):\n",
        "    pprint.pprint(doc)"
      ],
      "metadata": {
        "colab": {
          "base_uri": "https://localhost:8080/"
        },
        "id": "ZHFEnByQLm-G",
        "outputId": "e2668855-b224-44c9-9157-86defb3bf894"
      },
      "execution_count": 9,
      "outputs": [
        {
          "output_type": "stream",
          "name": "stdout",
          "text": [
            "\n",
            "=== Агрегация: количество снов по настроению (mood) ===\n",
            "{'_id': 'fear', 'count': 1}\n",
            "{'_id': 'inspired', 'count': 1}\n"
          ]
        }
      ]
    },
    {
      "cell_type": "code",
      "source": [
        "print(\"\\n=== Модификация массива: добавляем новый символ в сон 'Лес и тень' ===\")\n",
        "doc = collection.find_one({\"dreams.title\": \"Лес и тень\"})\n",
        "for dream in doc[\"dreams\"]:\n",
        "    if dream[\"title\"] == \"Лес и тень\":\n",
        "        dream[\"symbols\"].append({\"name\": \"door\", \"meaning\": \"new opportunity\"})\n",
        "collection.replace_one({\"_id\": doc[\"_id\"]}, doc)\n",
        "\n",
        "print(\"\\n=== Проверка обновлённого документа ===\")\n",
        "updated = collection.find_one({\"username\": \"alice\"}, {\"dreams\": 1})\n",
        "pprint.pprint(updated)\n"
      ],
      "metadata": {
        "colab": {
          "base_uri": "https://localhost:8080/"
        },
        "id": "egs66l9ILwYU",
        "outputId": "2514c18d-19ce-4175-e6a9-4c32320b3c75"
      },
      "execution_count": 10,
      "outputs": [
        {
          "output_type": "stream",
          "name": "stdout",
          "text": [
            "\n",
            "=== Модификация массива: добавляем новый символ в сон 'Лес и тень' ===\n",
            "\n",
            "=== Проверка обновлённого документа ===\n",
            "{'_id': ObjectId(aea68868-afdb-11f0-b792-0242ac1c000c),\n",
            " 'dreams': [{'characters': [{'feeling': 'friendly',\n",
            "                             'name': 'bird',\n",
            "                             'type': 'animal'}],\n",
            "             'date': '20.10.2025',\n",
            "             'mood': 'inspired',\n",
            "             'notes': {'clarity': 8,\n",
            "                       'lucid': True,\n",
            "                       'themes': ['flight', 'freedom']},\n",
            "             'symbols': [{'meaning': 'freedom', 'name': 'sky'},\n",
            "                         {'meaning': 'ambition', 'name': 'city'}],\n",
            "             'title': 'Полет над городом'},\n",
            "            {'characters': [{'feeling': 'hostile',\n",
            "                             'name': 'shadow',\n",
            "                             'type': 'entity'}],\n",
            "             'date': '20.10.2025',\n",
            "             'mood': 'fear',\n",
            "             'notes': {'clarity': 5,\n",
            "                       'lucid': False,\n",
            "                       'themes': ['darkness', 'fear']},\n",
            "             'symbols': [{'meaning': 'unknown', 'name': 'forest'},\n",
            "                         {'meaning': 'hidden fears', 'name': 'shadow'},\n",
            "                         {'meaning': 'new opportunity', 'name': 'door'}],\n",
            "             'title': 'Лес и тень'}]}\n"
          ]
        }
      ]
    }
  ]
}