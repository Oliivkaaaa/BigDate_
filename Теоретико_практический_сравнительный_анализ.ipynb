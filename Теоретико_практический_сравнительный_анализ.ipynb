{
  "nbformat": 4,
  "nbformat_minor": 0,
  "metadata": {
    "colab": {
      "provenance": [],
      "authorship_tag": "ABX9TyMAr96XcSuewQxOCtmCVGXS",
      "include_colab_link": true
    },
    "kernelspec": {
      "name": "python3",
      "display_name": "Python 3"
    },
    "language_info": {
      "name": "python"
    }
  },
  "cells": [
    {
      "cell_type": "markdown",
      "metadata": {
        "id": "view-in-github",
        "colab_type": "text"
      },
      "source": [
        "<a href=\"https://colab.research.google.com/github/Oliivkaaaa/BigDate_/blob/main/%D0%A2%D0%B5%D0%BE%D1%80%D0%B5%D1%82%D0%B8%D0%BA%D0%BE_%D0%BF%D1%80%D0%B0%D0%BA%D1%82%D0%B8%D1%87%D0%B5%D1%81%D0%BA%D0%B8%D0%B9_%D1%81%D1%80%D0%B0%D0%B2%D0%BD%D0%B8%D1%82%D0%B5%D0%BB%D1%8C%D0%BD%D1%8B%D0%B9_%D0%B0%D0%BD%D0%B0%D0%BB%D0%B8%D0%B7.ipynb\" target=\"_parent\"><img src=\"https://colab.research.google.com/assets/colab-badge.svg\" alt=\"Open In Colab\"/></a>"
      ]
    },
    {
      "cell_type": "code",
      "source": [
        "import pandas as pd\n",
        "import polars as pl\n",
        "import numpy as np\n",
        "import time"
      ],
      "metadata": {
        "id": "o7A8YpZW0U0x"
      },
      "execution_count": 1,
      "outputs": []
    },
    {
      "cell_type": "code",
      "execution_count": 3,
      "metadata": {
        "colab": {
          "base_uri": "https://localhost:8080/"
        },
        "id": "u6jxtWyDxtus",
        "outputId": "701513c8-a348-4f75-b365-c8dcd7fa9582"
      },
      "outputs": [
        {
          "output_type": "stream",
          "name": "stdout",
          "text": [
            "Результаты агрегации pandas:\n",
            "  category       mean           sum   count\n",
            "0        A  49.947931  2.492072e+07  498934\n",
            "1        B  49.970674  2.500313e+07  500356\n",
            "2        C  49.966300  2.502327e+07  500803\n",
            "3        D  50.037385  2.501404e+07  499907\n",
            "\n",
            "Результаты агрегации polars:\n",
            "shape: (4, 4)\n",
            "┌──────────┬───────────┬──────────┬────────┐\n",
            "│ category ┆ mean      ┆ sum      ┆ count  │\n",
            "│ ---      ┆ ---       ┆ ---      ┆ ---    │\n",
            "│ str      ┆ f64       ┆ f64      ┆ u32    │\n",
            "╞══════════╪═══════════╪══════════╪════════╡\n",
            "│ A        ┆ 49.947931 ┆ 2.4921e7 ┆ 498934 │\n",
            "│ D        ┆ 50.037385 ┆ 2.5014e7 ┆ 499907 │\n",
            "│ C        ┆ 49.9663   ┆ 2.5023e7 ┆ 500803 │\n",
            "│ B        ┆ 49.970674 ┆ 2.5003e7 ┆ 500356 │\n",
            "└──────────┴───────────┴──────────┴────────┘\n",
            "\n",
            "Время выполнения:\n",
            "Pandas: 0.203 секунд\n",
            "Polars: 0.651 секунд\n"
          ]
        }
      ],
      "source": [
        "N = 2_000_000\n",
        "data = {\n",
        "    \"user_id\": np.random.randint(1, 100_000, N),\n",
        "    \"value\": np.random.rand(N) * 100,\n",
        "    \"category\": np.random.choice([\"A\", \"B\", \"C\", \"D\"], N)\n",
        "}\n",
        "\n",
        "start_pandas = time.time()\n",
        "df_pandas = pd.DataFrame(data)\n",
        "result_pandas = (\n",
        "    df_pandas.groupby(\"category\")[\"value\"]\n",
        "    .agg([\"mean\", \"sum\", \"count\"])\n",
        "    .reset_index()\n",
        ")\n",
        "end_pandas = time.time()\n",
        "\n",
        "start_polars = time.time()\n",
        "df_polars = pl.DataFrame(data)\n",
        "result_polars = (\n",
        "    df_polars.group_by(\"category\")\n",
        "    .agg([\n",
        "        pl.col(\"value\").mean().alias(\"mean\"),\n",
        "        pl.col(\"value\").sum().alias(\"sum\"),\n",
        "        pl.col(\"value\").count().alias(\"count\")\n",
        "    ])\n",
        ")\n",
        "end_polars = time.time()\n",
        "\n",
        "print(\"Результаты агрегации pandas:\")\n",
        "print(result_pandas)\n",
        "print(\"\\nРезультаты агрегации polars:\")\n",
        "print(result_polars)\n",
        "\n",
        "print(\"\\nВремя выполнения:\")\n",
        "print(f\"Pandas: {end_pandas - start_pandas:.3f} секунд\")\n",
        "print(f\"Polars: {end_polars - start_polars:.3f} секунд\")\n"
      ]
    }
  ]
}