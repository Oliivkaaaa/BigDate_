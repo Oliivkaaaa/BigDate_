{
  "nbformat": 4,
  "nbformat_minor": 0,
  "metadata": {
    "colab": {
      "provenance": [],
      "authorship_tag": "ABX9TyPYM3ZxzowRtIydvrogKbc2",
      "include_colab_link": true
    },
    "kernelspec": {
      "name": "python3",
      "display_name": "Python 3"
    },
    "language_info": {
      "name": "python"
    }
  },
  "cells": [
    {
      "cell_type": "markdown",
      "metadata": {
        "id": "view-in-github",
        "colab_type": "text"
      },
      "source": [
        "<a href=\"https://colab.research.google.com/github/Oliivkaaaa/BigDate_/blob/main/Kafka_%D0%A3%D0%BD%D0%B8%D0%BA%D0%B0%D0%BB%D1%8C%D0%BD%D0%B0%D1%8F_%D0%BE%D0%B1%D1%80%D0%B0%D0%B1%D0%BE%D1%82%D0%BA%D0%B0_%D1%81%D0%BE%D0%B1%D1%8B%D1%82%D0%B8%D0%B9.ipynb\" target=\"_parent\"><img src=\"https://colab.research.google.com/assets/colab-badge.svg\" alt=\"Open In Colab\"/></a>"
      ]
    },
    {
      "cell_type": "code",
      "source": [
        "from multiprocessing import Process, Queue\n",
        "import time, json, random, os\n",
        "\n",
        "TOPIC = \"sensor_temperature_alerts\"\n",
        "\n",
        "def producer_task(q: Queue, n=10, delay=1.0):\n",
        "    sensors = [\"sensor-A\", \"sensor-B\", \"sensor-C\"]\n",
        "    for i in range(n):\n",
        "        event = {\n",
        "            \"type\": \"TemperatureEvent\",\n",
        "            \"topic\": TOPIC,\n",
        "            \"sensor_id\": random.choice(sensors),\n",
        "            \"temperature\": round(random.uniform(15, 40), 2),\n",
        "            \"timestamp\": time.time()\n",
        "        }\n",
        "        q.put(json.dumps(event))\n",
        "        print(f\"Producer -> sent: {event}\")\n",
        "        time.sleep(delay)\n",
        "    q.put(\"__EOF__\")\n",
        "\n",
        "def consumer_task(q: Queue, out_log=\"consumer_sim.log\"):\n",
        "    with open(out_log, \"w\", encoding=\"utf-8\") as f:\n",
        "        print(\"Consumer started (simulator). Listening...\")\n",
        "        while True:\n",
        "            raw = q.get()\n",
        "            if raw == \"__EOF__\":\n",
        "                print(\"Consumer received EOF, exiting.\")\n",
        "                break\n",
        "            event = json.loads(raw)\n",
        "            if event.get(\"topic\") != TOPIC:\n",
        "                continue\n",
        "            if event.get(\"type\") == \"TemperatureEvent\":\n",
        "                temp = event.get(\"temperature\")\n",
        "                sensor = event.get(\"sensor_id\")\n",
        "                ts = event.get(\"timestamp\")\n",
        "                if temp > 30:\n",
        "                    line = f\"🔥 ALERT! {sensor} temperature = {temp}°C (ts={ts})\"\n",
        "                else:\n",
        "                    line = f\"✅ {sensor} normal temperature = {temp}°C (ts={ts})\"\n",
        "                print(line)\n",
        "                f.write(line + \"\\n\")\n",
        "                f.flush()\n",
        "\n",
        "if __name__ == \"__main__\":\n",
        "    q = Queue()\n",
        "    p = Process(target=producer_task, args=(q,10,0.5))\n",
        "    c = Process(target=consumer_task, args=(q,\"consumer_sim.log\"))\n",
        "    c.start()\n",
        "    p.start()\n",
        "    p.join()\n",
        "    c.join()\n",
        "    print(\"Simulation finished. Logs written to consumer_sim.log\")\n"
      ],
      "metadata": {
        "colab": {
          "base_uri": "https://localhost:8080/"
        },
        "id": "sZm_Qxur6fk2",
        "outputId": "71625653-927e-4a5b-f210-d455faa7b700"
      },
      "execution_count": null,
      "outputs": [
        {
          "output_type": "stream",
          "name": "stdout",
          "text": [
            "Consumer started (simulator). Listening...\n",
            "Producer -> sent: {'type': 'TemperatureEvent', 'topic': 'sensor_temperature_alerts', 'sensor_id': 'sensor-C', 'temperature': 19.97, 'timestamp': 1761170108.8566298}✅ sensor-C normal temperature = 19.97°C (ts=1761170108.8566298)\n",
            "\n",
            "Producer -> sent: {'type': 'TemperatureEvent', 'topic': 'sensor_temperature_alerts', 'sensor_id': 'sensor-B', 'temperature': 16.94, 'timestamp': 1761170109.3696554}\n",
            "✅ sensor-B normal temperature = 16.94°C (ts=1761170109.3696554)\n",
            "Producer -> sent: {'type': 'TemperatureEvent', 'topic': 'sensor_temperature_alerts', 'sensor_id': 'sensor-B', 'temperature': 23.93, 'timestamp': 1761170109.8760827}✅ sensor-B normal temperature = 23.93°C (ts=1761170109.8760827)\n",
            "\n",
            "Producer -> sent: {'type': 'TemperatureEvent', 'topic': 'sensor_temperature_alerts', 'sensor_id': 'sensor-C', 'temperature': 31.06, 'timestamp': 1761170110.3847153}🔥 ALERT! sensor-C temperature = 31.06°C (ts=1761170110.3847153)\n",
            "\n",
            "Producer -> sent: {'type': 'TemperatureEvent', 'topic': 'sensor_temperature_alerts', 'sensor_id': 'sensor-B', 'temperature': 28.92, 'timestamp': 1761170110.8935473}✅ sensor-B normal temperature = 28.92°C (ts=1761170110.8935473)\n",
            "\n",
            "Producer -> sent: {'type': 'TemperatureEvent', 'topic': 'sensor_temperature_alerts', 'sensor_id': 'sensor-B', 'temperature': 39.64, 'timestamp': 1761170111.400626}🔥 ALERT! sensor-B temperature = 39.64°C (ts=1761170111.400626)\n",
            "\n",
            "Producer -> sent: {'type': 'TemperatureEvent', 'topic': 'sensor_temperature_alerts', 'sensor_id': 'sensor-C', 'temperature': 15.39, 'timestamp': 1761170111.9074886}✅ sensor-C normal temperature = 15.39°C (ts=1761170111.9074886)\n",
            "\n",
            "Producer -> sent: {'type': 'TemperatureEvent', 'topic': 'sensor_temperature_alerts', 'sensor_id': 'sensor-B', 'temperature': 28.92, 'timestamp': 1761170112.4147675}\n",
            "✅ sensor-B normal temperature = 28.92°C (ts=1761170112.4147675)\n",
            "Producer -> sent: {'type': 'TemperatureEvent', 'topic': 'sensor_temperature_alerts', 'sensor_id': 'sensor-A', 'temperature': 27.25, 'timestamp': 1761170112.9183214}\n",
            "✅ sensor-A normal temperature = 27.25°C (ts=1761170112.9183214)\n",
            "Producer -> sent: {'type': 'TemperatureEvent', 'topic': 'sensor_temperature_alerts', 'sensor_id': 'sensor-B', 'temperature': 35.72, 'timestamp': 1761170113.4217649}🔥 ALERT! sensor-B temperature = 35.72°C (ts=1761170113.4217649)\n",
            "\n",
            "Consumer received EOF, exiting.\n",
            "Simulation finished. Logs written to consumer_sim.log\n"
          ]
        }
      ]
    },
    {
      "cell_type": "code",
      "source": [
        "from google.colab import files\n",
        "files.download('consumer_sim.log')\n"
      ],
      "metadata": {
        "colab": {
          "base_uri": "https://localhost:8080/",
          "height": 17
        },
        "id": "z7oZxelS6nw6",
        "outputId": "34031141-3a4f-4f6e-ddb1-28959cfd8403"
      },
      "execution_count": null,
      "outputs": [
        {
          "output_type": "display_data",
          "data": {
            "text/plain": [
              "<IPython.core.display.Javascript object>"
            ],
            "application/javascript": [
              "\n",
              "    async function download(id, filename, size) {\n",
              "      if (!google.colab.kernel.accessAllowed) {\n",
              "        return;\n",
              "      }\n",
              "      const div = document.createElement('div');\n",
              "      const label = document.createElement('label');\n",
              "      label.textContent = `Downloading \"${filename}\": `;\n",
              "      div.appendChild(label);\n",
              "      const progress = document.createElement('progress');\n",
              "      progress.max = size;\n",
              "      div.appendChild(progress);\n",
              "      document.body.appendChild(div);\n",
              "\n",
              "      const buffers = [];\n",
              "      let downloaded = 0;\n",
              "\n",
              "      const channel = await google.colab.kernel.comms.open(id);\n",
              "      // Send a message to notify the kernel that we're ready.\n",
              "      channel.send({})\n",
              "\n",
              "      for await (const message of channel.messages) {\n",
              "        // Send a message to notify the kernel that we're ready.\n",
              "        channel.send({})\n",
              "        if (message.buffers) {\n",
              "          for (const buffer of message.buffers) {\n",
              "            buffers.push(buffer);\n",
              "            downloaded += buffer.byteLength;\n",
              "            progress.value = downloaded;\n",
              "          }\n",
              "        }\n",
              "      }\n",
              "      const blob = new Blob(buffers, {type: 'application/binary'});\n",
              "      const a = document.createElement('a');\n",
              "      a.href = window.URL.createObjectURL(blob);\n",
              "      a.download = filename;\n",
              "      div.appendChild(a);\n",
              "      a.click();\n",
              "      div.remove();\n",
              "    }\n",
              "  "
            ]
          },
          "metadata": {}
        },
        {
          "output_type": "display_data",
          "data": {
            "text/plain": [
              "<IPython.core.display.Javascript object>"
            ],
            "application/javascript": [
              "download(\"download_007c9f74-6cb8-41a8-98c7-2a9c1c5b2fa6\", \"consumer_sim.log\", 672)"
            ]
          },
          "metadata": {}
        }
      ]
    }
  ]
}