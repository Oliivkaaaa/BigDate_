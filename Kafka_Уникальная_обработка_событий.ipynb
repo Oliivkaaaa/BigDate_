{
  "nbformat": 4,
  "nbformat_minor": 0,
  "metadata": {
    "colab": {
      "provenance": [],
      "authorship_tag": "ABX9TyMHXabtKmSYDcFsqD74G7LB",
      "include_colab_link": true
    },
    "kernelspec": {
      "name": "python3",
      "display_name": "Python 3"
    },
    "language_info": {
      "name": "python"
    }
  },
  "cells": [
    {
      "cell_type": "markdown",
      "metadata": {
        "id": "view-in-github",
        "colab_type": "text"
      },
      "source": [
        "<a href=\"https://colab.research.google.com/github/Oliivkaaaa/BigDate_/blob/main/Kafka_%D0%A3%D0%BD%D0%B8%D0%BA%D0%B0%D0%BB%D1%8C%D0%BD%D0%B0%D1%8F_%D0%BE%D0%B1%D1%80%D0%B0%D0%B1%D0%BE%D1%82%D0%BA%D0%B0_%D1%81%D0%BE%D0%B1%D1%8B%D1%82%D0%B8%D0%B9.ipynb\" target=\"_parent\"><img src=\"https://colab.research.google.com/assets/colab-badge.svg\" alt=\"Open In Colab\"/></a>"
      ]
    },
    {
      "cell_type": "code",
      "source": [
        "from multiprocessing import Process, Queue\n",
        "import time, json, random, os\n",
        "\n",
        "TOPIC = \"sensor_temperature_alerts\"\n",
        "\n",
        "def producer_task(q: Queue, n=10, delay=1.0):\n",
        "    sensors = [\"sensor-A\", \"sensor-B\", \"sensor-C\"]\n",
        "    for i in range(n):\n",
        "        event = {\n",
        "            \"type\": \"TemperatureEvent\",\n",
        "            \"topic\": TOPIC,\n",
        "            \"sensor_id\": random.choice(sensors),\n",
        "            \"temperature\": round(random.uniform(15, 40), 2),\n",
        "            \"timestamp\": time.time()\n",
        "        }\n",
        "        q.put(json.dumps(event))\n",
        "        print(f\"Producer -> sent: {event}\")\n",
        "        time.sleep(delay)\n",
        "    q.put(\"__EOF__\")\n",
        "\n",
        "def consumer_task(q: Queue, out_log=\"consumer_sim.log\"):\n",
        "    with open(out_log, \"w\", encoding=\"utf-8\") as f:\n",
        "        print(\"Consumer started (simulator). Listening...\")\n",
        "        while True:\n",
        "            raw = q.get()\n",
        "            if raw == \"__EOF__\":\n",
        "                print(\"Consumer received EOF, exiting.\")\n",
        "                break\n",
        "            event = json.loads(raw)\n",
        "            if event.get(\"topic\") != TOPIC:\n",
        "                continue\n",
        "            if event.get(\"type\") == \"TemperatureEvent\":\n",
        "                temp = event.get(\"temperature\")\n",
        "                sensor = event.get(\"sensor_id\")\n",
        "                ts = event.get(\"timestamp\")\n",
        "                if temp > 30:\n",
        "                    line = f\"ALERT! {sensor} temperature = {temp}°C (ts={ts})\"\n",
        "                else:\n",
        "                    line = f\"{sensor} normal temperature = {temp}°C (ts={ts})\"\n",
        "                print(line)\n",
        "                f.write(line + \"\\n\")\n",
        "                f.flush()\n",
        "\n",
        "if __name__ == \"__main__\":\n",
        "    q = Queue()\n",
        "    p = Process(target=producer_task, args=(q,10,0.5))\n",
        "    c = Process(target=consumer_task, args=(q,\"consumer_sim.log\"))\n",
        "    c.start()\n",
        "    p.start()\n",
        "    p.join()\n",
        "    c.join()\n",
        "    print(\"Simulation finished. Logs written to consumer_sim.log\")\n"
      ],
      "metadata": {
        "colab": {
          "base_uri": "https://localhost:8080/"
        },
        "id": "sZm_Qxur6fk2",
        "outputId": "ec88f409-076d-4149-92bc-90fb42fcbd3d"
      },
      "execution_count": 1,
      "outputs": [
        {
          "output_type": "stream",
          "name": "stdout",
          "text": [
            "Consumer started (simulator). Listening...\n",
            "Producer -> sent: {'type': 'TemperatureEvent', 'topic': 'sensor_temperature_alerts', 'sensor_id': 'sensor-A', 'temperature': 24.35, 'timestamp': 1761201604.5129309}sensor-A normal temperature = 24.35°C (ts=1761201604.5129309)\n",
            "\n",
            "Producer -> sent: {'type': 'TemperatureEvent', 'topic': 'sensor_temperature_alerts', 'sensor_id': 'sensor-A', 'temperature': 16.59, 'timestamp': 1761201605.025147}sensor-A normal temperature = 16.59°C (ts=1761201605.025147)\n",
            "\n",
            "Producer -> sent: {'type': 'TemperatureEvent', 'topic': 'sensor_temperature_alerts', 'sensor_id': 'sensor-A', 'temperature': 28.28, 'timestamp': 1761201605.5321863}sensor-A normal temperature = 28.28°C (ts=1761201605.5321863)\n",
            "\n",
            "Producer -> sent: {'type': 'TemperatureEvent', 'topic': 'sensor_temperature_alerts', 'sensor_id': 'sensor-C', 'temperature': 25.57, 'timestamp': 1761201606.037555}sensor-C normal temperature = 25.57°C (ts=1761201606.037555)\n",
            "\n",
            "Producer -> sent: {'type': 'TemperatureEvent', 'topic': 'sensor_temperature_alerts', 'sensor_id': 'sensor-C', 'temperature': 18.37, 'timestamp': 1761201606.5428336}sensor-C normal temperature = 18.37°C (ts=1761201606.5428336)\n",
            "\n",
            "Producer -> sent: {'type': 'TemperatureEvent', 'topic': 'sensor_temperature_alerts', 'sensor_id': 'sensor-B', 'temperature': 33.08, 'timestamp': 1761201607.0501692}ALERT! sensor-B temperature = 33.08°C (ts=1761201607.0501692)\n",
            "\n",
            "Producer -> sent: {'type': 'TemperatureEvent', 'topic': 'sensor_temperature_alerts', 'sensor_id': 'sensor-B', 'temperature': 36.99, 'timestamp': 1761201607.5559568}\n",
            "ALERT! sensor-B temperature = 36.99°C (ts=1761201607.5559568)\n",
            "Producer -> sent: {'type': 'TemperatureEvent', 'topic': 'sensor_temperature_alerts', 'sensor_id': 'sensor-B', 'temperature': 33.78, 'timestamp': 1761201608.0588832}ALERT! sensor-B temperature = 33.78°C (ts=1761201608.0588832)\n",
            "\n",
            "Producer -> sent: {'type': 'TemperatureEvent', 'topic': 'sensor_temperature_alerts', 'sensor_id': 'sensor-A', 'temperature': 37.84, 'timestamp': 1761201608.5654733}\n",
            "ALERT! sensor-A temperature = 37.84°C (ts=1761201608.5654733)\n",
            "Producer -> sent: {'type': 'TemperatureEvent', 'topic': 'sensor_temperature_alerts', 'sensor_id': 'sensor-A', 'temperature': 31.58, 'timestamp': 1761201609.0685313}\n",
            "ALERT! sensor-A temperature = 31.58°C (ts=1761201609.0685313)\n",
            "Consumer received EOF, exiting.\n",
            "Simulation finished. Logs written to consumer_sim.log\n"
          ]
        }
      ]
    },
    {
      "cell_type": "code",
      "source": [
        "from google.colab import files\n",
        "files.download('consumer_sim.log')\n"
      ],
      "metadata": {
        "colab": {
          "base_uri": "https://localhost:8080/",
          "height": 17
        },
        "id": "z7oZxelS6nw6",
        "outputId": "c715275e-242d-4581-fb80-b40c7bf3a3cf"
      },
      "execution_count": 2,
      "outputs": [
        {
          "output_type": "display_data",
          "data": {
            "text/plain": [
              "<IPython.core.display.Javascript object>"
            ],
            "application/javascript": [
              "\n",
              "    async function download(id, filename, size) {\n",
              "      if (!google.colab.kernel.accessAllowed) {\n",
              "        return;\n",
              "      }\n",
              "      const div = document.createElement('div');\n",
              "      const label = document.createElement('label');\n",
              "      label.textContent = `Downloading \"${filename}\": `;\n",
              "      div.appendChild(label);\n",
              "      const progress = document.createElement('progress');\n",
              "      progress.max = size;\n",
              "      div.appendChild(progress);\n",
              "      document.body.appendChild(div);\n",
              "\n",
              "      const buffers = [];\n",
              "      let downloaded = 0;\n",
              "\n",
              "      const channel = await google.colab.kernel.comms.open(id);\n",
              "      // Send a message to notify the kernel that we're ready.\n",
              "      channel.send({})\n",
              "\n",
              "      for await (const message of channel.messages) {\n",
              "        // Send a message to notify the kernel that we're ready.\n",
              "        channel.send({})\n",
              "        if (message.buffers) {\n",
              "          for (const buffer of message.buffers) {\n",
              "            buffers.push(buffer);\n",
              "            downloaded += buffer.byteLength;\n",
              "            progress.value = downloaded;\n",
              "          }\n",
              "        }\n",
              "      }\n",
              "      const blob = new Blob(buffers, {type: 'application/binary'});\n",
              "      const a = document.createElement('a');\n",
              "      a.href = window.URL.createObjectURL(blob);\n",
              "      a.download = filename;\n",
              "      div.appendChild(a);\n",
              "      a.click();\n",
              "      div.remove();\n",
              "    }\n",
              "  "
            ]
          },
          "metadata": {}
        },
        {
          "output_type": "display_data",
          "data": {
            "text/plain": [
              "<IPython.core.display.Javascript object>"
            ],
            "application/javascript": [
              "download(\"download_5441e363-f4ff-425e-bda5-ccc4fd23dde0\", \"consumer_sim.log\", 628)"
            ]
          },
          "metadata": {}
        }
      ]
    }
  ]
}